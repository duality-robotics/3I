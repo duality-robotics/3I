{
 "cells": [
  {
   "cell_type": "code",
   "execution_count": 1,
   "id": "442ebd63",
   "metadata": {},
   "outputs": [],
   "source": [
    "import fiftyone as fo\n",
    "import torchvision\n",
    "import os \n",
    "import torch\n",
    "from PIL import Image\n",
    "import numpy as np\n",
    "import fiftyone.brain as fob\n",
    "from sklearn.neighbors import NearestNeighbors\n"
   ]
  },
  {
   "cell_type": "markdown",
   "id": "0f5db568",
   "metadata": {},
   "source": [
    "## Create Dataset"
   ]
  },
  {
   "cell_type": "code",
   "execution_count": 2,
   "id": "13219b15",
   "metadata": {},
   "outputs": [
    {
     "name": "stdout",
     "output_type": "stream",
     "text": [
      " 100% |█████████████████| 281/281 [126.0ms elapsed, 0s remaining, 2.3K samples/s]  \n"
     ]
    },
    {
     "data": {
      "text/plain": [
       "['6261aa7a5d9990c51a3ea3b9',\n",
       " '6261aa7a5d9990c51a3ea3bb',\n",
       " '6261aa7a5d9990c51a3ea3bc',\n",
       " '6261aa7a5d9990c51a3ea3bf',\n",
       " '6261aa7a5d9990c51a3ea3c0',\n",
       " '6261aa7a5d9990c51a3ea3c1',\n",
       " '6261aa7a5d9990c51a3ea3c2',\n",
       " '6261aa7a5d9990c51a3ea3c7',\n",
       " '6261aa7a5d9990c51a3ea3c8',\n",
       " '6261aa7a5d9990c51a3ea3c9',\n",
       " '6261aa7a5d9990c51a3ea3ca',\n",
       " '6261aa7a5d9990c51a3ea3cb',\n",
       " '6261aa7a5d9990c51a3ea3cc',\n",
       " '6261aa7a5d9990c51a3ea3cd',\n",
       " '6261aa7a5d9990c51a3ea3ce',\n",
       " '6261aa7a5d9990c51a3ea3d7',\n",
       " '6261aa7a5d9990c51a3ea3d8',\n",
       " '6261aa7a5d9990c51a3ea3d9',\n",
       " '6261aa7a5d9990c51a3ea3da',\n",
       " '6261aa7a5d9990c51a3ea3db',\n",
       " '6261aa7a5d9990c51a3ea3dc',\n",
       " '6261aa7a5d9990c51a3ea3dd',\n",
       " '6261aa7a5d9990c51a3ea3de',\n",
       " '6261aa7a5d9990c51a3ea3df',\n",
       " '6261aa7a5d9990c51a3ea3e0',\n",
       " '6261aa7a5d9990c51a3ea3e1',\n",
       " '6261aa7a5d9990c51a3ea3e2',\n",
       " '6261aa7a5d9990c51a3ea3e3',\n",
       " '6261aa7a5d9990c51a3ea3e4',\n",
       " '6261aa7a5d9990c51a3ea3e5',\n",
       " '6261aa7a5d9990c51a3ea3e6',\n",
       " '6261aa7a5d9990c51a3ea3f7',\n",
       " '6261aa7a5d9990c51a3ea3f8',\n",
       " '6261aa7a5d9990c51a3ea3f9',\n",
       " '6261aa7a5d9990c51a3ea3fa',\n",
       " '6261aa7a5d9990c51a3ea3fb',\n",
       " '6261aa7a5d9990c51a3ea3fc',\n",
       " '6261aa7a5d9990c51a3ea3fd',\n",
       " '6261aa7a5d9990c51a3ea3fe',\n",
       " '6261aa7a5d9990c51a3ea3ff',\n",
       " '6261aa7a5d9990c51a3ea400',\n",
       " '6261aa7a5d9990c51a3ea401',\n",
       " '6261aa7a5d9990c51a3ea402',\n",
       " '6261aa7a5d9990c51a3ea403',\n",
       " '6261aa7a5d9990c51a3ea404',\n",
       " '6261aa7a5d9990c51a3ea405',\n",
       " '6261aa7a5d9990c51a3ea406',\n",
       " '6261aa7a5d9990c51a3ea407',\n",
       " '6261aa7a5d9990c51a3ea408',\n",
       " '6261aa7a5d9990c51a3ea409',\n",
       " '6261aa7a5d9990c51a3ea40a',\n",
       " '6261aa7a5d9990c51a3ea40b',\n",
       " '6261aa7a5d9990c51a3ea40c',\n",
       " '6261aa7a5d9990c51a3ea40d',\n",
       " '6261aa7a5d9990c51a3ea40e',\n",
       " '6261aa7a5d9990c51a3ea40f',\n",
       " '6261aa7a5d9990c51a3ea410',\n",
       " '6261aa7a5d9990c51a3ea411',\n",
       " '6261aa7a5d9990c51a3ea412',\n",
       " '6261aa7a5d9990c51a3ea413',\n",
       " '6261aa7a5d9990c51a3ea414',\n",
       " '6261aa7a5d9990c51a3ea415',\n",
       " '6261aa7a5d9990c51a3ea416',\n",
       " '6261aa7a5d9990c51a3ea437',\n",
       " '6261aa7a5d9990c51a3ea438',\n",
       " '6261aa7a5d9990c51a3ea439',\n",
       " '6261aa7a5d9990c51a3ea43a',\n",
       " '6261aa7a5d9990c51a3ea43b',\n",
       " '6261aa7a5d9990c51a3ea43c',\n",
       " '6261aa7a5d9990c51a3ea43d',\n",
       " '6261aa7a5d9990c51a3ea43e',\n",
       " '6261aa7a5d9990c51a3ea43f',\n",
       " '6261aa7a5d9990c51a3ea440',\n",
       " '6261aa7a5d9990c51a3ea441',\n",
       " '6261aa7a5d9990c51a3ea442',\n",
       " '6261aa7a5d9990c51a3ea443',\n",
       " '6261aa7a5d9990c51a3ea444',\n",
       " '6261aa7a5d9990c51a3ea445',\n",
       " '6261aa7a5d9990c51a3ea446',\n",
       " '6261aa7a5d9990c51a3ea447',\n",
       " '6261aa7a5d9990c51a3ea448',\n",
       " '6261aa7a5d9990c51a3ea449',\n",
       " '6261aa7a5d9990c51a3ea44a',\n",
       " '6261aa7a5d9990c51a3ea44b',\n",
       " '6261aa7a5d9990c51a3ea44c',\n",
       " '6261aa7a5d9990c51a3ea44d',\n",
       " '6261aa7a5d9990c51a3ea44e',\n",
       " '6261aa7a5d9990c51a3ea44f',\n",
       " '6261aa7a5d9990c51a3ea450',\n",
       " '6261aa7a5d9990c51a3ea451',\n",
       " '6261aa7a5d9990c51a3ea452',\n",
       " '6261aa7a5d9990c51a3ea453',\n",
       " '6261aa7a5d9990c51a3ea454',\n",
       " '6261aa7a5d9990c51a3ea455',\n",
       " '6261aa7a5d9990c51a3ea456',\n",
       " '6261aa7a5d9990c51a3ea457',\n",
       " '6261aa7a5d9990c51a3ea458',\n",
       " '6261aa7a5d9990c51a3ea459',\n",
       " '6261aa7a5d9990c51a3ea45a',\n",
       " '6261aa7a5d9990c51a3ea45b',\n",
       " '6261aa7a5d9990c51a3ea45c',\n",
       " '6261aa7a5d9990c51a3ea45d',\n",
       " '6261aa7a5d9990c51a3ea45e',\n",
       " '6261aa7a5d9990c51a3ea45f',\n",
       " '6261aa7a5d9990c51a3ea460',\n",
       " '6261aa7a5d9990c51a3ea461',\n",
       " '6261aa7a5d9990c51a3ea462',\n",
       " '6261aa7a5d9990c51a3ea463',\n",
       " '6261aa7a5d9990c51a3ea464',\n",
       " '6261aa7a5d9990c51a3ea465',\n",
       " '6261aa7a5d9990c51a3ea466',\n",
       " '6261aa7a5d9990c51a3ea467',\n",
       " '6261aa7a5d9990c51a3ea468',\n",
       " '6261aa7a5d9990c51a3ea469',\n",
       " '6261aa7a5d9990c51a3ea46a',\n",
       " '6261aa7a5d9990c51a3ea46b',\n",
       " '6261aa7a5d9990c51a3ea46c',\n",
       " '6261aa7a5d9990c51a3ea46d',\n",
       " '6261aa7a5d9990c51a3ea46e',\n",
       " '6261aa7a5d9990c51a3ea46f',\n",
       " '6261aa7a5d9990c51a3ea470',\n",
       " '6261aa7a5d9990c51a3ea471',\n",
       " '6261aa7a5d9990c51a3ea472',\n",
       " '6261aa7a5d9990c51a3ea473',\n",
       " '6261aa7a5d9990c51a3ea474',\n",
       " '6261aa7a5d9990c51a3ea475',\n",
       " '6261aa7a5d9990c51a3ea476',\n",
       " '6261aa7a5d9990c51a3ea4b7',\n",
       " '6261aa7a5d9990c51a3ea4b8',\n",
       " '6261aa7a5d9990c51a3ea4b9',\n",
       " '6261aa7a5d9990c51a3ea4ba',\n",
       " '6261aa7a5d9990c51a3ea4bb',\n",
       " '6261aa7a5d9990c51a3ea4bc',\n",
       " '6261aa7a5d9990c51a3ea4bd',\n",
       " '6261aa7a5d9990c51a3ea4be',\n",
       " '6261aa7a5d9990c51a3ea4bf',\n",
       " '6261aa7a5d9990c51a3ea4c0',\n",
       " '6261aa7a5d9990c51a3ea4c1',\n",
       " '6261aa7a5d9990c51a3ea4c2',\n",
       " '6261aa7a5d9990c51a3ea4c3',\n",
       " '6261aa7a5d9990c51a3ea4c4',\n",
       " '6261aa7a5d9990c51a3ea4c5',\n",
       " '6261aa7a5d9990c51a3ea4c6',\n",
       " '6261aa7a5d9990c51a3ea4c7',\n",
       " '6261aa7a5d9990c51a3ea4c8',\n",
       " '6261aa7a5d9990c51a3ea4c9',\n",
       " '6261aa7a5d9990c51a3ea4ca',\n",
       " '6261aa7a5d9990c51a3ea4cb',\n",
       " '6261aa7a5d9990c51a3ea4cc',\n",
       " '6261aa7a5d9990c51a3ea4cd',\n",
       " '6261aa7a5d9990c51a3ea4ce',\n",
       " '6261aa7a5d9990c51a3ea4cf',\n",
       " '6261aa7a5d9990c51a3ea4d0',\n",
       " '6261aa7a5d9990c51a3ea4d1',\n",
       " '6261aa7a5d9990c51a3ea4d2',\n",
       " '6261aa7a5d9990c51a3ea4d3',\n",
       " '6261aa7a5d9990c51a3ea4d4',\n",
       " '6261aa7a5d9990c51a3ea4d5',\n",
       " '6261aa7a5d9990c51a3ea4d6',\n",
       " '6261aa7a5d9990c51a3ea4d7',\n",
       " '6261aa7a5d9990c51a3ea4d8',\n",
       " '6261aa7a5d9990c51a3ea4d9',\n",
       " '6261aa7a5d9990c51a3ea4da',\n",
       " '6261aa7a5d9990c51a3ea4db',\n",
       " '6261aa7a5d9990c51a3ea4dc',\n",
       " '6261aa7a5d9990c51a3ea4dd',\n",
       " '6261aa7a5d9990c51a3ea4de',\n",
       " '6261aa7a5d9990c51a3ea4df',\n",
       " '6261aa7a5d9990c51a3ea4e0',\n",
       " '6261aa7a5d9990c51a3ea4e1',\n",
       " '6261aa7a5d9990c51a3ea4e2',\n",
       " '6261aa7a5d9990c51a3ea4e3',\n",
       " '6261aa7a5d9990c51a3ea4e4',\n",
       " '6261aa7a5d9990c51a3ea4e5',\n",
       " '6261aa7a5d9990c51a3ea4e6',\n",
       " '6261aa7a5d9990c51a3ea4e7',\n",
       " '6261aa7a5d9990c51a3ea4e8',\n",
       " '6261aa7a5d9990c51a3ea4e9',\n",
       " '6261aa7a5d9990c51a3ea4ea',\n",
       " '6261aa7a5d9990c51a3ea4eb',\n",
       " '6261aa7a5d9990c51a3ea4ec',\n",
       " '6261aa7a5d9990c51a3ea4ed',\n",
       " '6261aa7a5d9990c51a3ea4ee',\n",
       " '6261aa7a5d9990c51a3ea4ef',\n",
       " '6261aa7a5d9990c51a3ea4f0',\n",
       " '6261aa7a5d9990c51a3ea4f1',\n",
       " '6261aa7a5d9990c51a3ea4f2',\n",
       " '6261aa7a5d9990c51a3ea4f3',\n",
       " '6261aa7a5d9990c51a3ea4f4',\n",
       " '6261aa7a5d9990c51a3ea4f5',\n",
       " '6261aa7a5d9990c51a3ea4f6',\n",
       " '6261aa7a5d9990c51a3ea4f7',\n",
       " '6261aa7a5d9990c51a3ea4f8',\n",
       " '6261aa7a5d9990c51a3ea4f9',\n",
       " '6261aa7a5d9990c51a3ea4fa',\n",
       " '6261aa7a5d9990c51a3ea4fb',\n",
       " '6261aa7a5d9990c51a3ea4fc',\n",
       " '6261aa7a5d9990c51a3ea4fd',\n",
       " '6261aa7a5d9990c51a3ea4fe',\n",
       " '6261aa7a5d9990c51a3ea4ff',\n",
       " '6261aa7a5d9990c51a3ea500',\n",
       " '6261aa7a5d9990c51a3ea501',\n",
       " '6261aa7a5d9990c51a3ea502',\n",
       " '6261aa7a5d9990c51a3ea503',\n",
       " '6261aa7a5d9990c51a3ea504',\n",
       " '6261aa7a5d9990c51a3ea505',\n",
       " '6261aa7a5d9990c51a3ea506',\n",
       " '6261aa7a5d9990c51a3ea507',\n",
       " '6261aa7a5d9990c51a3ea508',\n",
       " '6261aa7a5d9990c51a3ea509',\n",
       " '6261aa7a5d9990c51a3ea50a',\n",
       " '6261aa7a5d9990c51a3ea50b',\n",
       " '6261aa7a5d9990c51a3ea50c',\n",
       " '6261aa7a5d9990c51a3ea50d',\n",
       " '6261aa7a5d9990c51a3ea50e',\n",
       " '6261aa7a5d9990c51a3ea50f',\n",
       " '6261aa7a5d9990c51a3ea510',\n",
       " '6261aa7a5d9990c51a3ea511',\n",
       " '6261aa7a5d9990c51a3ea512',\n",
       " '6261aa7a5d9990c51a3ea513',\n",
       " '6261aa7a5d9990c51a3ea514',\n",
       " '6261aa7a5d9990c51a3ea515',\n",
       " '6261aa7a5d9990c51a3ea516',\n",
       " '6261aa7a5d9990c51a3ea517',\n",
       " '6261aa7a5d9990c51a3ea518',\n",
       " '6261aa7a5d9990c51a3ea519',\n",
       " '6261aa7a5d9990c51a3ea51a',\n",
       " '6261aa7a5d9990c51a3ea51b',\n",
       " '6261aa7a5d9990c51a3ea51c',\n",
       " '6261aa7a5d9990c51a3ea51d',\n",
       " '6261aa7a5d9990c51a3ea51e',\n",
       " '6261aa7a5d9990c51a3ea51f',\n",
       " '6261aa7a5d9990c51a3ea520',\n",
       " '6261aa7a5d9990c51a3ea521',\n",
       " '6261aa7a5d9990c51a3ea522',\n",
       " '6261aa7a5d9990c51a3ea523',\n",
       " '6261aa7a5d9990c51a3ea524',\n",
       " '6261aa7a5d9990c51a3ea525',\n",
       " '6261aa7a5d9990c51a3ea526',\n",
       " '6261aa7a5d9990c51a3ea527',\n",
       " '6261aa7a5d9990c51a3ea528',\n",
       " '6261aa7a5d9990c51a3ea529',\n",
       " '6261aa7a5d9990c51a3ea52a',\n",
       " '6261aa7a5d9990c51a3ea52b',\n",
       " '6261aa7a5d9990c51a3ea52c',\n",
       " '6261aa7a5d9990c51a3ea52d',\n",
       " '6261aa7a5d9990c51a3ea52e',\n",
       " '6261aa7a5d9990c51a3ea52f',\n",
       " '6261aa7a5d9990c51a3ea530',\n",
       " '6261aa7a5d9990c51a3ea531',\n",
       " '6261aa7a5d9990c51a3ea532',\n",
       " '6261aa7a5d9990c51a3ea533',\n",
       " '6261aa7a5d9990c51a3ea534',\n",
       " '6261aa7a5d9990c51a3ea535',\n",
       " '6261aa7a5d9990c51a3ea536',\n",
       " '6261aa7a5d9990c51a3ea5b7',\n",
       " '6261aa7a5d9990c51a3ea5b8',\n",
       " '6261aa7a5d9990c51a3ea5b9',\n",
       " '6261aa7a5d9990c51a3ea5ba',\n",
       " '6261aa7a5d9990c51a3ea5bb',\n",
       " '6261aa7a5d9990c51a3ea5bc',\n",
       " '6261aa7a5d9990c51a3ea5bd',\n",
       " '6261aa7a5d9990c51a3ea5be',\n",
       " '6261aa7a5d9990c51a3ea5bf',\n",
       " '6261aa7a5d9990c51a3ea5c0',\n",
       " '6261aa7a5d9990c51a3ea5c1',\n",
       " '6261aa7a5d9990c51a3ea5c2',\n",
       " '6261aa7a5d9990c51a3ea5c3',\n",
       " '6261aa7a5d9990c51a3ea5c4',\n",
       " '6261aa7a5d9990c51a3ea5c5',\n",
       " '6261aa7a5d9990c51a3ea5c6',\n",
       " '6261aa7a5d9990c51a3ea5c7',\n",
       " '6261aa7a5d9990c51a3ea5c8',\n",
       " '6261aa7a5d9990c51a3ea5c9',\n",
       " '6261aa7a5d9990c51a3ea5ca',\n",
       " '6261aa7a5d9990c51a3ea5cb',\n",
       " '6261aa7a5d9990c51a3ea5cc',\n",
       " '6261aa7a5d9990c51a3ea5cd',\n",
       " '6261aa7a5d9990c51a3ea5ce',\n",
       " '6261aa7a5d9990c51a3ea5cf',\n",
       " '6261aa7a5d9990c51a3ea5d0']"
      ]
     },
     "execution_count": 2,
     "metadata": {},
     "output_type": "execute_result"
    }
   ],
   "source": [
    "device = torch.device('cuda') if torch.cuda.is_available() else torch.device('cpu')\n",
    "samples = []\n",
    "\n",
    "data_root2 = '../Data/Snickers_Real_Image/10/'\n",
    "data_root1 = '../Data/Snickers_Digital_Twin/10/'\n",
    "\n",
    "folder1 = os.listdir(data_root1)\n",
    "folder2 = os.listdir(data_root2)\n",
    "\n",
    "\n",
    "for count, file in enumerate(folder1):\n",
    "    if count >len(folder2):\n",
    "        break\n",
    "    sample = fo.Sample(filepath = os.path.join(data_root1,file))\n",
    "    label = 'Synthetic'\n",
    "    sample[\"ground_truth\"] = fo.Classification(label=label)\n",
    "    samples.append(sample)\n",
    "\n",
    "for count, file in enumerate(folder2):\n",
    "    sample = fo.Sample(filepath = os.path.join(data_root2,file))\n",
    "    label = 'Real'\n",
    "    sample[\"ground_truth\"] = fo.Classification(label=label)\n",
    "    samples.append(sample)\n",
    "\n",
    "# Create dataset\n",
    "dataset = fo.Dataset(\"my-classification-dataset\")\n",
    "dataset.add_samples(samples)"
   ]
  },
  {
   "cell_type": "markdown",
   "id": "9305795f",
   "metadata": {},
   "source": [
    "## Image loading "
   ]
  },
  {
   "cell_type": "code",
   "execution_count": 3,
   "id": "a042c549",
   "metadata": {},
   "outputs": [],
   "source": [
    "def pil_loader(path: str) -> Image.Image:\n",
    "    with open(path, 'rb') as f:\n",
    "        img = Image.open(f)\n",
    "        return img.convert('RGB')\n",
    "    \n",
    "def get_image(path,transform):\n",
    "    \n",
    "    x = pil_loader(path)\n",
    "    x = transform(x)\n",
    "    return(x)"
   ]
  },
  {
   "cell_type": "markdown",
   "id": "495bf80b",
   "metadata": {},
   "source": [
    "## Image Normalization"
   ]
  },
  {
   "cell_type": "code",
   "execution_count": 4,
   "id": "91ba039a",
   "metadata": {},
   "outputs": [],
   "source": [
    "transform = torchvision.transforms.Compose([ \n",
    "    torchvision.transforms.Resize(size = (256,256)),\n",
    "    torchvision.transforms.ToTensor(),\n",
    "    torchvision.transforms.Normalize(mean=[0.485, 0.456, 0.406],\n",
    "                                 std=[0.229, 0.224, 0.225])\n",
    "])"
   ]
  },
  {
   "cell_type": "markdown",
   "id": "2a4741ae",
   "metadata": {},
   "source": [
    "## Setup pre-trained model for generating embeddings"
   ]
  },
  {
   "cell_type": "code",
   "execution_count": 5,
   "id": "1c85f35d",
   "metadata": {},
   "outputs": [],
   "source": [
    "model = torchvision.models.resnet50(pretrained=True).to(device)\n",
    "\n",
    "model.eval()\n",
    "\n",
    "class SaveFeatures():\n",
    "    features=None\n",
    "    def __init__(self, m): \n",
    "        self.hook = m.register_forward_hook(self.hook_fn)\n",
    "        self.features = None\n",
    "    def hook_fn(self, module, input, output): \n",
    "        out = output.detach()#.cpu().numpy()\n",
    "        self.features = out.flatten()\n",
    "\n",
    "    def remove(self): \n",
    "        self.hook.remove()\n",
    "        \n",
    "hook = SaveFeatures(model.avgpool)\n",
    "\n",
    "\n",
    "def model_embedding(model, images):\n",
    "    ## renset50\n",
    "    _ = model(images)\n",
    "    return hook.features\n"
   ]
  },
  {
   "cell_type": "markdown",
   "id": "941c9228",
   "metadata": {},
   "source": [
    "## Generate Embeddings"
   ]
  },
  {
   "cell_type": "code",
   "execution_count": 6,
   "id": "b3ca1eb4",
   "metadata": {},
   "outputs": [],
   "source": [
    "model.eval()\n",
    "n_features = 2048\n",
    "num_images = len(dataset.values('filepath'))\n",
    "\n",
    "with torch.no_grad():\n",
    "    \n",
    "    embedding = torch.zeros(num_images, n_features)\n",
    "    index_count = 0 \n",
    "    for index, (f, label_dict) in enumerate(zip(dataset.values('filepath'), dataset.values('ground_truth'))):\n",
    "      \n",
    "        images = get_image(f, transform)\n",
    "        images = images.unsqueeze(0).to(device)  \n",
    "        \n",
    "        out = model_embedding(model, images.to(device))\n",
    "        embedding[index,:] = (out)\n",
    "\n",
    "        "
   ]
  },
  {
   "cell_type": "markdown",
   "id": "8f102d61",
   "metadata": {},
   "source": [
    "## umap Dimensionality reduction"
   ]
  },
  {
   "cell_type": "code",
   "execution_count": 7,
   "id": "4b67910b",
   "metadata": {},
   "outputs": [
    {
     "name": "stdout",
     "output_type": "stream",
     "text": [
      "Generating visualization...\n",
      "UMAP(random_state=51, verbose=True)\n",
      "Thu Apr 21 12:03:43 2022 Construct fuzzy simplicial set\n"
     ]
    },
    {
     "name": "stderr",
     "output_type": "stream",
     "text": [
      "/home/famejia/anaconda3/envs/voxel51/lib/python3.6/site-packages/numba/np/ufunc/parallel.py:365: NumbaWarning:\n",
      "\n",
      "The TBB threading layer requires TBB version 2019.5 or later i.e., TBB_INTERFACE_VERSION >= 11005. Found TBB_INTERFACE_VERSION = 9107. The TBB threading layer is disabled.\n",
      "\n"
     ]
    },
    {
     "name": "stdout",
     "output_type": "stream",
     "text": [
      "Thu Apr 21 12:03:43 2022 Finding Nearest Neighbors\n",
      "Thu Apr 21 12:03:45 2022 Finished Nearest Neighbor Search\n",
      "Thu Apr 21 12:03:47 2022 Construct embedding\n"
     ]
    },
    {
     "data": {
      "application/vnd.jupyter.widget-view+json": {
       "model_id": "5eff6020d2d64e2bacb3920baf576fc9",
       "version_major": 2,
       "version_minor": 0
      },
      "text/plain": [
       "Epochs completed:   0%|            0/500 [00:00]"
      ]
     },
     "metadata": {},
     "output_type": "display_data"
    },
    {
     "name": "stdout",
     "output_type": "stream",
     "text": [
      "Thu Apr 21 12:03:49 2022 Finished embedding\n"
     ]
    }
   ],
   "source": [
    "results = fob.compute_visualization(\n",
    "    dataset,\n",
    "    embeddings=embedding.detach().cpu().numpy(),\n",
    "    num_dims=2,\n",
    "    method=\"umap\",\n",
    "    brain_key=\"None\",\n",
    "    verbose=True,\n",
    "    seed=51,\n",
    ")\n"
   ]
  },
  {
   "cell_type": "markdown",
   "id": "69f1edba",
   "metadata": {},
   "source": [
    "## Voxel 51 visualization"
   ]
  },
  {
   "cell_type": "code",
   "execution_count": 8,
   "id": "5a1bf0b0",
   "metadata": {},
   "outputs": [
    {
     "data": {
      "text/html": [
       "\n",
       "        <iframe\n",
       "            width=\"100%\"\n",
       "            height=\"800\"\n",
       "            src=\"http://localhost:5151/?notebook=true&handleId=aa88a46f-b5ff-4ddd-81f9-c58acccd5555\"\n",
       "            frameborder=\"0\"\n",
       "            allowfullscreen\n",
       "        ></iframe>\n",
       "        "
      ],
      "text/plain": [
       "<IPython.lib.display.IFrame at 0x7f4b6d012e80>"
      ]
     },
     "metadata": {},
     "output_type": "display_data"
    },
    {
     "data": {
      "text/plain": []
     },
     "metadata": {},
     "output_type": "display_data"
    },
    {
     "data": {
      "text/plain": []
     },
     "metadata": {},
     "output_type": "display_data"
    },
    {
     "data": {
      "application/vnd.jupyter.widget-view+json": {
       "model_id": "5cff6c2e46fe491094ec097d19d066da",
       "version_major": 2,
       "version_minor": 0
      },
      "text/plain": [
       "FigureWidget({\n",
       "    'data': [{'customdata': array(['6261aa7a5d9990c51a3ea4c5', '6261aa7a5d9990c51a3ea4c6',\n",
       "    …"
      ]
     },
     "metadata": {},
     "output_type": "display_data"
    }
   ],
   "source": [
    "session = fo.launch_app(view=dataset.view())\n",
    "plot = results.visualize(labels=\"ground_truth.label\")\n",
    "plot.show(height=720)\n",
    "session.plots.attach(plot)"
   ]
  },
  {
   "cell_type": "markdown",
   "id": "0ccf8354",
   "metadata": {},
   "source": [
    "## Calculate data overlap"
   ]
  },
  {
   "cell_type": "code",
   "execution_count": 9,
   "id": "d87d3974",
   "metadata": {},
   "outputs": [
    {
     "name": "stdout",
     "output_type": "stream",
     "text": [
      "data overlap = 0.384347\n"
     ]
    }
   ],
   "source": [
    "y = np.array([int('Real' in d['label']) for d in dataset.values('ground_truth')])\n",
    "X = results.points\n",
    "nbrs = NearestNeighbors(n_neighbors=2, algorithm='ball_tree').fit(X)\n",
    "nearest_class = []\n",
    "\n",
    "## find nearest points to Synthetic data\n",
    "for data in X[y==0]:\n",
    "    distances, indices = nbrs.kneighbors(data.reshape(1, -1))\n",
    "    nearest_class.append(y[indices[0][1]])    \n",
    "\n",
    "n_real = np.sum([int(x==1) for x in nearest_class])\n",
    "n_fake = np.sum([int(x==0) for x in nearest_class])\n",
    "\n",
    "\n",
    "ns = (len(nearest_class))\n",
    "z = 0\n",
    "x = n_fake/len(nearest_class)\n",
    "a = x\n",
    "b = z\n",
    "c = np.sqrt(ns)\n",
    "p_val = (-np.sqrt(-4*a**2*b**2*c**2+4*a*b**2*c**2 + b**4) + 2*a*c**2 + b**2) / (2*(b**2+c**2))\n",
    "\n",
    "nd = len(y)\n",
    "nq = (y==1).sum() \n",
    "data_overlap = -(p_val-1) * (nd / nq)\n",
    "print('data overlap = %f' %data_overlap)"
   ]
  },
  {
   "cell_type": "code",
   "execution_count": null,
   "id": "d0d30f2b",
   "metadata": {},
   "outputs": [],
   "source": []
  },
  {
   "cell_type": "code",
   "execution_count": null,
   "id": "754a6352",
   "metadata": {},
   "outputs": [],
   "source": []
  },
  {
   "cell_type": "code",
   "execution_count": null,
   "id": "578b612d",
   "metadata": {},
   "outputs": [],
   "source": []
  },
  {
   "cell_type": "code",
   "execution_count": null,
   "id": "c5290d98",
   "metadata": {},
   "outputs": [],
   "source": []
  },
  {
   "cell_type": "code",
   "execution_count": null,
   "id": "2f8efc04",
   "metadata": {},
   "outputs": [],
   "source": []
  }
 ],
 "metadata": {
  "kernelspec": {
   "display_name": "pytorch1.4",
   "language": "python",
   "name": "pytorch1.4"
  },
  "language_info": {
   "codemirror_mode": {
    "name": "ipython",
    "version": 3
   },
   "file_extension": ".py",
   "mimetype": "text/x-python",
   "name": "python",
   "nbconvert_exporter": "python",
   "pygments_lexer": "ipython3",
   "version": "3.6.13"
  }
 },
 "nbformat": 4,
 "nbformat_minor": 5
}
